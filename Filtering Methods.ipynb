{
 "cells": [
  {
   "cell_type": "markdown",
   "metadata": {},
   "source": [
    "# Problem Statement:-To remove unwanted Noise in GPS Altitude Data using Statistical Filtering Method"
   ]
  },
  {
   "cell_type": "code",
   "execution_count": 1,
   "metadata": {},
   "outputs": [],
   "source": [
    "import pandas as pd\n",
    "import gpxpy\n",
    "import matplotlib.pyplot as plt"
   ]
  },
  {
   "cell_type": "markdown",
   "metadata": {},
   "source": [
    "## Reading a GPX file"
   ]
  },
  {
   "cell_type": "markdown",
   "metadata": {},
   "source": [
    "GPX File format is the File format used for storeing GPS time series data It include parameter such a latitude, Longitude , Altitude etc. GPX full form is GPS Exchangable Format. So for the given problem publicly available GPX file was choosen. "
   ]
  },
  {
   "cell_type": "code",
   "execution_count": 2,
   "metadata": {},
   "outputs": [
    {
     "data": {
      "text/plain": [
       "GPX(tracks=[GPXTrack(segments=[GPXTrackSegment(points=[...])])])"
      ]
     },
     "execution_count": 2,
     "metadata": {},
     "output_type": "execute_result"
    }
   ],
   "source": [
    "with open('C:\\\\Users\\\\ASUS\\\\Videos\\\\Maruti Suzuki\\\\gpx\\\\3-laender-giro.gpx') as f:\n",
    "    dat = gpxpy.parse(f)\n",
    "dat\n"
   ]
  },
  {
   "cell_type": "markdown",
   "metadata": {},
   "source": [
    "## GPX segments can be easily converted to a Pandas dataframe"
   ]
  },
  {
   "cell_type": "code",
   "execution_count": 3,
   "metadata": {},
   "outputs": [],
   "source": [
    "p=dat.tracks[0].segments[0]"
   ]
  },
  {
   "cell_type": "code",
   "execution_count": 4,
   "metadata": {},
   "outputs": [
    {
     "data": {
      "text/html": [
       "<div>\n",
       "<style scoped>\n",
       "    .dataframe tbody tr th:only-of-type {\n",
       "        vertical-align: middle;\n",
       "    }\n",
       "\n",
       "    .dataframe tbody tr th {\n",
       "        vertical-align: top;\n",
       "    }\n",
       "\n",
       "    .dataframe thead th {\n",
       "        text-align: right;\n",
       "    }\n",
       "</style>\n",
       "<table border=\"1\" class=\"dataframe\">\n",
       "  <thead>\n",
       "    <tr style=\"text-align: right;\">\n",
       "      <th></th>\n",
       "      <th>time</th>\n",
       "      <th>latitude</th>\n",
       "      <th>longitude</th>\n",
       "      <th>Altitude</th>\n",
       "    </tr>\n",
       "  </thead>\n",
       "  <tbody>\n",
       "    <tr>\n",
       "      <td>0</td>\n",
       "      <td>2016-06-26 04:31:27+00:00</td>\n",
       "      <td>46.889062</td>\n",
       "      <td>10.502119</td>\n",
       "      <td>1343.0</td>\n",
       "    </tr>\n",
       "    <tr>\n",
       "      <td>1</td>\n",
       "      <td>2016-06-26 04:31:28+00:00</td>\n",
       "      <td>46.889062</td>\n",
       "      <td>10.502119</td>\n",
       "      <td>1343.0</td>\n",
       "    </tr>\n",
       "    <tr>\n",
       "      <td>2</td>\n",
       "      <td>2016-06-26 04:31:29+00:00</td>\n",
       "      <td>46.889062</td>\n",
       "      <td>10.502119</td>\n",
       "      <td>1343.0</td>\n",
       "    </tr>\n",
       "    <tr>\n",
       "      <td>3</td>\n",
       "      <td>2016-06-26 04:31:30+00:00</td>\n",
       "      <td>46.889065</td>\n",
       "      <td>10.502119</td>\n",
       "      <td>1344.0</td>\n",
       "    </tr>\n",
       "    <tr>\n",
       "      <td>4</td>\n",
       "      <td>2016-06-26 04:31:31+00:00</td>\n",
       "      <td>46.889068</td>\n",
       "      <td>10.502121</td>\n",
       "      <td>1345.0</td>\n",
       "    </tr>\n",
       "  </tbody>\n",
       "</table>\n",
       "</div>"
      ],
      "text/plain": [
       "                       time   latitude  longitude  Altitude\n",
       "0 2016-06-26 04:31:27+00:00  46.889062  10.502119    1343.0\n",
       "1 2016-06-26 04:31:28+00:00  46.889062  10.502119    1343.0\n",
       "2 2016-06-26 04:31:29+00:00  46.889062  10.502119    1343.0\n",
       "3 2016-06-26 04:31:30+00:00  46.889065  10.502119    1344.0\n",
       "4 2016-06-26 04:31:31+00:00  46.889068  10.502121    1345.0"
      ]
     },
     "execution_count": 4,
     "metadata": {},
     "output_type": "execute_result"
    }
   ],
   "source": [
    "lat=[]\n",
    "lon=[]\n",
    "ele=[]\n",
    "tim=[]\n",
    "for item in p.points:\n",
    "    lat.append(item.latitude)\n",
    "    lon.append(item.longitude)\n",
    "    ele.append(item.elevation)\n",
    "    tim.append(item.time)\n",
    "data = pd.DataFrame({'time':tim,'latitude':lat,'longitude':lon,'Altitude':ele})\n",
    "data.head()"
   ]
  },
  {
   "cell_type": "code",
   "execution_count": 5,
   "metadata": {},
   "outputs": [
    {
     "data": {
      "text/plain": [
       "<matplotlib.axes._subplots.AxesSubplot at 0xee0d62388>"
      ]
     },
     "execution_count": 5,
     "metadata": {},
     "output_type": "execute_result"
    },
    {
     "data": {
      "image/png": "[encoded data removed]",
      "text/plain": [
       "<Figure size 432x288 with 1 Axes>"
      ]
     },
     "metadata": {
      "needs_background": "light"
     },
     "output_type": "display_data"
    }
   ],
   "source": [
    "data['Altitude'].plot()"
   ]
  },
  {
   "cell_type": "markdown",
   "metadata": {},
   "source": [
    "We can observed that there is slight noise in altitude signal and might need some noise reduction technique.lets zoom in a little to observe noise."
   ]
  },
  {
   "cell_type": "code",
   "execution_count": 6,
   "metadata": {},
   "outputs": [
    {
     "data": {
      "text/plain": [
       "<matplotlib.axes._subplots.AxesSubplot at 0xee0f61848>"
      ]
     },
     "execution_count": 6,
     "metadata": {},
     "output_type": "execute_result"
    },
    {
     "data": {
      "image/png": "[encoded data removed]",
      "text/plain": [
       "<Figure size 432x288 with 1 Axes>"
      ]
     },
     "metadata": {
      "needs_background": "light"
     },
     "output_type": "display_data"
    }
   ],
   "source": [
    "data['Altitude'][4000:4100].plot()"
   ]
  },
  {
   "cell_type": "markdown",
   "metadata": {},
   "source": [
    "From figure we can observe that there is step like increment of about 1 meter at each altitude sample. From observing this signal we feel that jump shall be gradual instead of step like jump and is due to limitation of resolution of altitude parameter. This limitation can be overcomed by some filtering techniques which are listed below"
   ]
  },
  {
   "cell_type": "code",
   "execution_count": 7,
   "metadata": {},
   "outputs": [
    {
     "data": {
      "text/plain": [
       "<matplotlib.axes._subplots.AxesSubplot at 0xee0fe0588>"
      ]
     },
     "execution_count": 7,
     "metadata": {},
     "output_type": "execute_result"
    },
    {
     "data": {
      "image/png": "[encoded data removed]",
      "text/plain": [
       "<Figure size 432x288 with 1 Axes>"
      ]
     },
     "metadata": {
      "needs_background": "light"
     },
     "output_type": "display_data"
    }
   ],
   "source": [
    "data['time'][4000:4100].diff().dt.seconds.plot()"
   ]
  },
  {
   "cell_type": "markdown",
   "metadata": {},
   "source": [
    "\n",
    "To be sure that this non continous behavior is not due to data loss or time jump, in above figure we are plotting elapsed time between two rows and can observe that data is comeing at 1 second continous interval and there is no data loss."
   ]
  },
  {
   "cell_type": "markdown",
   "metadata": {},
   "source": [
    "## Moving average filter"
   ]
  },
  {
   "cell_type": "code",
   "execution_count": 8,
   "metadata": {},
   "outputs": [
    {
     "data": {
      "text/plain": [
       "<matplotlib.axes._subplots.AxesSubplot at 0xee106e6c8>"
      ]
     },
     "execution_count": 8,
     "metadata": {},
     "output_type": "execute_result"
    },
    {
     "data": {
      "image/png": "[encoded data removed]",
      "text/plain": [
       "<Figure size 432x288 with 1 Axes>"
      ]
     },
     "metadata": {
      "needs_background": "light"
     },
     "output_type": "display_data"
    }
   ],
   "source": [
    "data['altitude_mf5']=data['Altitude'].rolling(window=5).mean()\n",
    "data['altitude_mf6']=data['Altitude'].rolling(window=6).mean()\n",
    "data['altitude_mf7']=data['Altitude'].rolling(window=7).mean()\n",
    "data[['Altitude','altitude_mf5','altitude_mf6','altitude_mf7']][4000:4100].plot()"
   ]
  },
  {
   "cell_type": "markdown",
   "metadata": {},
   "source": [
    "We can see that with diffrent combinations of moving average window we are accounting for some loss especialliy when altitude is decreasing from 4060 seconds. overall moving average is not able to capture transient behavior of Altitude properly"
   ]
  },
  {
   "cell_type": "markdown",
   "metadata": {},
   "source": [
    "## savitzky Golay Filter"
   ]
  },
  {
   "cell_type": "code",
   "execution_count": 9,
   "metadata": {},
   "outputs": [
    {
     "data": {
      "text/plain": [
       "Text(0.5, 1.0, '11 sample window size Savitzky Golay filter')"
      ]
     },
     "execution_count": 9,
     "metadata": {},
     "output_type": "execute_result"
    },
    {
     "data": {
      "text/plain": [
       "<Figure size 432x288 with 0 Axes>"
      ]
     },
     "metadata": {},
     "output_type": "display_data"
    },
    {
     "data": {
      "image/png": "[encoded data removed]",
      "text/plain": [
       "<Figure size 432x288 with 1 Axes>"
      ]
     },
     "metadata": {
      "needs_background": "light"
     },
     "output_type": "display_data"
    },
    {
     "data": {
      "text/plain": [
       "<Figure size 432x288 with 0 Axes>"
      ]
     },
     "metadata": {},
     "output_type": "display_data"
    },
    {
     "data": {
      "image/png": "[encoded data removed]",
      "text/plain": [
       "<Figure size 432x288 with 1 Axes>"
      ]
     },
     "metadata": {
      "needs_background": "light"
     },
     "output_type": "display_data"
    }
   ],
   "source": [
    "from scipy.signal import savgol_filter\n",
    "smoothed_2dg_11 = savgol_filter(data['Altitude'].values, window_length=11, polyorder=2)\n",
    "smoothed_2dg_5 = savgol_filter(data['Altitude'].values, window_length=5, polyorder=2)\n",
    "\n",
    "smoothed_1dg_11 = savgol_filter(data['Altitude'].values, window_length=11, polyorder=1)\n",
    "smoothed_1dg_5 = savgol_filter(data['Altitude'].values, window_length=5, polyorder=1)\n",
    "\n",
    "smoothed_3dg_11 = savgol_filter(data['Altitude'].values, window_length=11, polyorder=3)\n",
    "smoothed_3dg_5 = savgol_filter(data['Altitude'].values, window_length=5, polyorder=3)\n",
    "\n",
    "data['smoothed_2dg_altitude_5'] = smoothed_2dg_5\n",
    "data['smoothed_1dg_altitude_5'] = smoothed_1dg_5\n",
    "data['smoothed_3dg_altitude_5'] = smoothed_3dg_5\n",
    "fig1=plt.figure()\n",
    "data[['Altitude','smoothed_2dg_altitude_5','smoothed_1dg_altitude_5','smoothed_3dg_altitude_5']][4000:4100].plot()\n",
    "plt.title('5 sample window size Savitzky Golay filter')\n",
    "\n",
    "data['smoothed_2dg_altitude_11'] = smoothed_2dg_11\n",
    "data['smoothed_1dg_altitude_11'] = smoothed_1dg_11\n",
    "data['smoothed_3dg_altitude_11'] = smoothed_3dg_11\n",
    "fig2 = plt.figure()\n",
    "data[['Altitude','smoothed_2dg_altitude_11','smoothed_1dg_altitude_11','smoothed_3dg_altitude_11']][4000:4100].plot()\n",
    "plt.title('11 sample window size Savitzky Golay filter')"
   ]
  },
  {
   "cell_type": "markdown",
   "metadata": {},
   "source": [
    "Chosing filter window size is hit and trial method & depends on raw data signal trend and is conditional. Here, Domain experience come handy in putting logical guess to initial filter coefficients. From the experience it was felt that rate of change of  Altitude will be constant for every 50m distance travelled. imagine vehicle moving at 36kmph or 10m/s, time taken to cover 50m will be 5sec. Since observation is coming at every 1sec window, 5sec will correspond to 5 samples and hence it was thought to 5 samples window size. Regarding the polynomila eqution order that needs to be fit on this window size since rate change is assuemed constant, so linear order polynomial appears to be best fit for the window size.\n",
    "\n",
    "We observed that 5sec window was doing its job but was not satisfactory. Hence it was decided to increase the window size from 5 to 11. i.e treat altitude rate as constant for every 100m distance travelled. this combination (11 window size & polynomial order 1 ) was giving the most desired results."
   ]
  },
  {
   "cell_type": "markdown",
   "metadata": {},
   "source": [
    "# Moving Average VS savitzky Golay Filter"
   ]
  },
  {
   "cell_type": "markdown",
   "metadata": {},
   "source": [
    "Moving average filter is the filtering Techniques used for removeing sudden change or sudden noise in slow moving data like Temprature , Height. So it is good method for Removing noise in slow moving signal because by replaceing the noise value with average of near by neighbourhood value.\n",
    "\n",
    "savitzky Golay Filter is the filtering Techniques used for removeing noise in fast moving signal such as speed, electrical parameter ete. since signal values in fast moving signal are different, average value is not the correct method for representing those signal values and hence regression line or polynomial line is best method to represent those signal values.\n",
    "\n",
    "For the given problem signal is changing fastly hence savitzky Golay Filter Giving better result as compare to moving avreage\n"
   ]
  },
  {
   "cell_type": "markdown",
   "metadata": {},
   "source": [
    "## Kalman Filter"
   ]
  },
  {
   "cell_type": "code",
   "execution_count": 10,
   "metadata": {},
   "outputs": [],
   "source": [
    "from pykalman import KalmanFilter\n",
    "import numpy as np"
   ]
  },
  {
   "cell_type": "markdown",
   "metadata": {},
   "source": [
    "## Kalman Filter and Smoother"
   ]
  },
  {
   "cell_type": "markdown",
   "metadata": {},
   "source": [
    "* *State equation*: $\\mathbf{x}_{k}=\\mathbf{F}_{k}\\mathbf {x}_{k-1}+\\mathbf{B}_{k}\\mathbf{u}_{k}+\\mathbf{\\epsilon}_{k}$ where \n",
    "  \n",
    "  - $\\mathbf{x}_{k}$ is the state vector at timestep $k$,\n",
    "  - $\\mathbf{u}_{k}$ is the control vector at timestep $k$,\n",
    "  - $\\mathbf{F}_{k}$ is the state transition matrix,\n",
    "  - $\\mathbf{B}_{k}$ is the control-input matrix,\n",
    "  - $\\mathbf{\\epsilon}_{k}$ is the process noise $\\mathbf{\\epsilon}_{k}\\sim{\\mathcal{N}}(0,\\mathbf{Q})$ with covariance $\\mathbf{Q}$ \n",
    "  \n",
    "\n",
    "* *Measurement equation*: $\\mathbf{z}_{k}=\\mathbf{H}_{k}\\mathbf{x}_{k}+\\mathbf{\\delta}_{k}$ where\n",
    "\n",
    "  - $\\mathbf{z}_{k}$ is the measurement vector at timestep $k$,\n",
    "  - $\\mathbf{H}_{k}$ is the observation matrix,\n",
    "  - $\\mathbf{\\delta}_{k}$ is the observation noise $\\mathbf{\\delta}_{k}\\sim{\\mathcal{N}}(0,\\mathbf{R})$ with covariance $\\mathbf{R}$ "
   ]
  },
  {
   "cell_type": "markdown",
   "metadata": {},
   "source": [
    "## Optimally average measurement and state estimation"
   ]
  },
  {
   "cell_type": "markdown",
   "metadata": {},
   "source": [
    "Let\n",
    "* $\\mathbf{\\hat{x}}_{k}^{-}$ be the *a priori*  state estimate with knowledge about the process prior to $k$\n",
    "* $\\mathbf{\\hat{x}}_{k}$ be the *a posteriori* state estimate including the the measurement $z_{k}$\n",
    "\n",
    "and an update equation linking $\\mathbf{\\hat{x}}_{k}$ to $\\mathbf{\\hat{x}}_{k}^{-}$, i.e.\n",
    "\n",
    "$$\\mathbf{\\hat{x}}_{k} = \\mathbf{\\hat{x}}_{k}^{-} + \\mathbf{K_k}(\\mathbf{\\mathbf{z}_{k} - \\mathbf{H}\\hat{x}}_{k}^{-})$$\n",
    "\n",
    "where $\\mathbf{K_k}$ is the *Kalman gain* at timestep $k$.\n",
    "\n",
    "**Goal:** Find an optimal $\\mathbf{K}_k$ that minimizes the *a posteriori* estimate error covariance $\\mathbf{P}_{k} = \\mathbb{E}[\\mathbf{e}_k,\\mathbf{e}_k]$ with $\\mathbf{e}_{k}\\equiv\\mathbf{x}_{k}-\\mathbf{\\hat{x}}_{k}$.\n"
   ]
  },
  {
   "cell_type": "markdown",
   "metadata": {},
   "source": [
    "Given position $\\mathbf{x}_{k}=(x_{k},y_{k},z_{k})$ and velocity $\\mathbf{v}_{k}=(\\alpha_{k},\\beta_{k},\\gamma_{k})$ our model state equation is\n",
    "<big>$$\\mathbf{x}_{k+1} = \\mathbf{x}_{k} + \\mathbf{v}_{k}dt + \\mathbf{\\epsilon}_{k},\\quad \\mathbf{v}_{k+1}=\\mathbf{v}_{k}+ \\mathbf{\\epsilon}_{k}$$</big>\n",
    "or in vector notation\n",
    "$$\n",
    "\\begin{pmatrix}\n",
    "x_{k+1} \\\\\n",
    "y_{k+1} \\\\\n",
    "z_{k+1} \\\\\n",
    "\\alpha_{k+1} \\\\\n",
    "\\beta_{k+1} \\\\\n",
    "\\gamma_{k+1} \\\\\n",
    "\\end{pmatrix}=\n",
    "\\begin{pmatrix}\n",
    "1 & 0 & 0 & dt & 0 & 0 \\\\\n",
    "0 & 1 & 0 & 0 & dt & 0 \\\\\n",
    "0 & 0 & 1 & 0 & 0 & dt \\\\\n",
    "0 & 0 & 0 & 1 & 0 & 0 \\\\\n",
    "0 & 0 & 0 & 0 & 1 & 0 \\\\\n",
    "0 & 0 & 0 & 0 & 0 & 1 \\\\\n",
    "\\end{pmatrix}\n",
    "\\cdot\n",
    "\\begin{pmatrix}\n",
    "x_{k} \\\\\n",
    "y_{k} \\\\\n",
    "z_{k} \\\\\n",
    "\\alpha_{k} \\\\\n",
    "\\beta_{k} \\\\\n",
    "\\gamma_{k} \\\\\n",
    "\\end{pmatrix}+\n",
    "\\begin{pmatrix}\n",
    "\\epsilon^1_{k} \\\\\n",
    "\\epsilon^2_{k} \\\\\n",
    "\\epsilon^3_{k} \\\\\n",
    "\\epsilon^4_{k} \\\\\n",
    "\\epsilon^5_{k} \\\\\n",
    "\\epsilon^6_{k} \\\\\n",
    "\\end{pmatrix}.\n",
    "$$\n",
    "For the sampling rate in our date $dt=1$."
   ]
  },
  {
   "cell_type": "markdown",
   "metadata": {},
   "source": [
    "Therefore State Trascition Matrix (F) is = \\begin{pmatrix}\n",
    "1 & 0 & 0 & 1 & 0 & 0 \\\\\n",
    "0 & 1 & 0 & 0 & 1 & 0 \\\\\n",
    "0 & 0 & 1 & 0 & 0 & 1 \\\\\n",
    "0 & 0 & 0 & 1 & 0 & 0 \\\\\n",
    "0 & 0 & 0 & 0 & 1 & 0 \\\\\n",
    "0 & 0 & 0 & 0 & 0 & 1 \\\\\n",
    "\\end{pmatrix}"
   ]
  },
  {
   "cell_type": "markdown",
   "metadata": {},
   "source": [
    "Given measurement $\\mathbf{z}_{k}=(\\tilde{x}_k,\\tilde{y}_k,\\tilde{z}_k)$ our measurement equation is\n",
    "<big> $$\\mathbf{z}_{k}=\\mathbf{H}_{k}\\mathbf{x}_{k}+\\mathbf{\\delta}_{k}$$</big>\n",
    "or in vector notation\n",
    "$$\n",
    "\\begin{pmatrix}\n",
    "\\tilde{x}_k\\\\\n",
    "\\tilde{y}_k\\\\\n",
    "\\tilde{z}_k\\\\\n",
    "\\end{pmatrix}=\n",
    "\\begin{pmatrix}\n",
    "1 & 0 & 0 & 0 & 0 & 0 \\\\\n",
    "0 & 1 & 0 & 0 & 0 & 0 \\\\\n",
    "0 & 0 & 1 & 0 & 0 & 0 \\\\\n",
    "\\end{pmatrix}\\cdot\n",
    "\\begin{pmatrix}\n",
    "x_{k} \\\\\n",
    "y_{k} \\\\\n",
    "z_{k} \\\\\n",
    "\\alpha_{k} \\\\\n",
    "\\beta_{k} \\\\\n",
    "\\gamma_{k} \\\\\n",
    "\\end{pmatrix}+\n",
    "\\begin{pmatrix}\n",
    "\\delta^1_{k} \\\\\n",
    "\\delta^2_{k} \\\\\n",
    "\\delta^3_{k} \\\\\n",
    "\\end{pmatrix}.\n",
    "$$\n",
    "The observation covariance matrix $\\mathbf{R}=diag(1e-4,1e-4,10)$ where $1e-4$ is roughly 10-30m in longitude/latitude."
   ]
  },
  {
   "cell_type": "markdown",
   "metadata": {},
   "source": [
    "Therefore Observation matrix (H) is =\n",
    "\\begin{pmatrix}\n",
    "1 & 0 & 0 & 0 & 0 & 0 \\\\\n",
    "0 & 1 & 0 & 0 & 0 & 0 \\\\\n",
    "0 & 0 & 1 & 0 & 0 & 0 \\\\\n",
    "\\end{pmatrix}\\"
   ]
  },
  {
   "cell_type": "markdown",
   "metadata": {},
   "source": [
    "## making Time Interval Constant as 1 second for kalman filter to work"
   ]
  },
  {
   "cell_type": "code",
   "execution_count": 11,
   "metadata": {},
   "outputs": [],
   "source": [
    "data['time']=np.round(data['time'].astype(int),-9).astype('datetime64[ns]')"
   ]
  },
  {
   "cell_type": "markdown",
   "metadata": {},
   "source": [
    "We are doing this to ensure that timestamp that we are using for prediction using kalman filter shall come at every uniform time interval otherwise our Kalman filter will not work properly."
   ]
  },
  {
   "cell_type": "markdown",
   "metadata": {},
   "source": [
    "## Dealing with missing Data"
   ]
  },
  {
   "cell_type": "code",
   "execution_count": 12,
   "metadata": {},
   "outputs": [
    {
     "data": {
      "text/plain": [
       "<matplotlib.axes._subplots.AxesSubplot at 0xee6bc6788>"
      ]
     },
     "execution_count": 12,
     "metadata": {},
     "output_type": "execute_result"
    },
    {
     "data": {
      "image/png": "[encoded data removed]",
      "text/plain": [
       "<Figure size 432x288 with 1 Axes>"
      ]
     },
     "metadata": {
      "needs_background": "light"
     },
     "output_type": "display_data"
    }
   ],
   "source": [
    " data['time'].diff().dt.seconds.plot()"
   ]
  },
  {
   "cell_type": "markdown",
   "metadata": {},
   "source": [
    "As we can see from tht data there are three places where there is time jump. These time instants are as follows."
   ]
  },
  {
   "cell_type": "code",
   "execution_count": 13,
   "metadata": {},
   "outputs": [
    {
     "data": {
      "text/plain": [
       "1550   2016-06-26 04:57:31\n",
       "1819   2016-06-26 05:02:09\n",
       "6301   2016-06-26 06:16:55\n",
       "Name: time, dtype: datetime64[ns]"
      ]
     },
     "execution_count": 13,
     "metadata": {},
     "output_type": "execute_result"
    }
   ],
   "source": [
    "data['time'][data['time'].diff().dt.seconds>1]"
   ]
  },
  {
   "cell_type": "markdown",
   "metadata": {},
   "source": [
    "Since we want each row or observation shall come at uniform time interval of 1 second we have to interpolate or fill extra rows between these time jump events.Using Resample function we can insert additional rows between the events where time jump was observed. These rows will be all NaN values. In this example we have inserted additional rows between time jump events at 1 second\n"
   ]
  },
  {
   "cell_type": "code",
   "execution_count": 14,
   "metadata": {},
   "outputs": [
    {
     "data": {
      "text/html": [
       "<div>\n",
       "<style scoped>\n",
       "    .dataframe tbody tr th:only-of-type {\n",
       "        vertical-align: middle;\n",
       "    }\n",
       "\n",
       "    .dataframe tbody tr th {\n",
       "        vertical-align: top;\n",
       "    }\n",
       "\n",
       "    .dataframe thead th {\n",
       "        text-align: right;\n",
       "    }\n",
       "</style>\n",
       "<table border=\"1\" class=\"dataframe\">\n",
       "  <thead>\n",
       "    <tr style=\"text-align: right;\">\n",
       "      <th></th>\n",
       "      <th>latitude</th>\n",
       "      <th>longitude</th>\n",
       "      <th>Altitude</th>\n",
       "      <th>altitude_mf5</th>\n",
       "      <th>altitude_mf6</th>\n",
       "      <th>altitude_mf7</th>\n",
       "      <th>smoothed_2dg_altitude_5</th>\n",
       "      <th>smoothed_1dg_altitude_5</th>\n",
       "      <th>smoothed_3dg_altitude_5</th>\n",
       "      <th>smoothed_2dg_altitude_11</th>\n",
       "      <th>smoothed_1dg_altitude_11</th>\n",
       "      <th>smoothed_3dg_altitude_11</th>\n",
       "    </tr>\n",
       "    <tr>\n",
       "      <th>time</th>\n",
       "      <th></th>\n",
       "      <th></th>\n",
       "      <th></th>\n",
       "      <th></th>\n",
       "      <th></th>\n",
       "      <th></th>\n",
       "      <th></th>\n",
       "      <th></th>\n",
       "      <th></th>\n",
       "      <th></th>\n",
       "      <th></th>\n",
       "      <th></th>\n",
       "    </tr>\n",
       "  </thead>\n",
       "  <tbody>\n",
       "    <tr>\n",
       "      <td>2016-06-26 04:31:27</td>\n",
       "      <td>46.889062</td>\n",
       "      <td>10.502119</td>\n",
       "      <td>1343.0</td>\n",
       "      <td>NaN</td>\n",
       "      <td>NaN</td>\n",
       "      <td>NaN</td>\n",
       "      <td>1343.028571</td>\n",
       "      <td>1342.6</td>\n",
       "      <td>1343.028571</td>\n",
       "      <td>1342.335664</td>\n",
       "      <td>1342.772727</td>\n",
       "      <td>1342.860140</td>\n",
       "    </tr>\n",
       "    <tr>\n",
       "      <td>2016-06-26 04:31:28</td>\n",
       "      <td>46.889062</td>\n",
       "      <td>10.502119</td>\n",
       "      <td>1343.0</td>\n",
       "      <td>NaN</td>\n",
       "      <td>NaN</td>\n",
       "      <td>NaN</td>\n",
       "      <td>1342.885714</td>\n",
       "      <td>1343.1</td>\n",
       "      <td>1342.885714</td>\n",
       "      <td>1343.097902</td>\n",
       "      <td>1343.272727</td>\n",
       "      <td>1342.993007</td>\n",
       "    </tr>\n",
       "    <tr>\n",
       "      <td>2016-06-26 04:31:29</td>\n",
       "      <td>46.889062</td>\n",
       "      <td>10.502119</td>\n",
       "      <td>1343.0</td>\n",
       "      <td>NaN</td>\n",
       "      <td>NaN</td>\n",
       "      <td>NaN</td>\n",
       "      <td>1343.171429</td>\n",
       "      <td>1343.6</td>\n",
       "      <td>1343.171429</td>\n",
       "      <td>1343.801865</td>\n",
       "      <td>1343.772727</td>\n",
       "      <td>1343.417249</td>\n",
       "    </tr>\n",
       "    <tr>\n",
       "      <td>2016-06-26 04:31:30</td>\n",
       "      <td>46.889065</td>\n",
       "      <td>10.502119</td>\n",
       "      <td>1344.0</td>\n",
       "      <td>NaN</td>\n",
       "      <td>NaN</td>\n",
       "      <td>NaN</td>\n",
       "      <td>1343.914286</td>\n",
       "      <td>1344.2</td>\n",
       "      <td>1343.914286</td>\n",
       "      <td>1344.447552</td>\n",
       "      <td>1344.272727</td>\n",
       "      <td>1344.045455</td>\n",
       "    </tr>\n",
       "    <tr>\n",
       "      <td>2016-06-26 04:31:31</td>\n",
       "      <td>46.889068</td>\n",
       "      <td>10.502121</td>\n",
       "      <td>1345.0</td>\n",
       "      <td>1343.6</td>\n",
       "      <td>NaN</td>\n",
       "      <td>NaN</td>\n",
       "      <td>1345.085714</td>\n",
       "      <td>1344.8</td>\n",
       "      <td>1345.085714</td>\n",
       "      <td>1345.034965</td>\n",
       "      <td>1344.772727</td>\n",
       "      <td>1344.790210</td>\n",
       "    </tr>\n",
       "    <tr>\n",
       "      <td>...</td>\n",
       "      <td>...</td>\n",
       "      <td>...</td>\n",
       "      <td>...</td>\n",
       "      <td>...</td>\n",
       "      <td>...</td>\n",
       "      <td>...</td>\n",
       "      <td>...</td>\n",
       "      <td>...</td>\n",
       "      <td>...</td>\n",
       "      <td>...</td>\n",
       "      <td>...</td>\n",
       "      <td>...</td>\n",
       "    </tr>\n",
       "    <tr>\n",
       "      <td>2016-06-26 10:49:01</td>\n",
       "      <td>46.888570</td>\n",
       "      <td>10.502008</td>\n",
       "      <td>1350.0</td>\n",
       "      <td>1349.2</td>\n",
       "      <td>1349.166667</td>\n",
       "      <td>1349.142857</td>\n",
       "      <td>1349.742857</td>\n",
       "      <td>1349.6</td>\n",
       "      <td>1349.742857</td>\n",
       "      <td>1349.538462</td>\n",
       "      <td>1349.590909</td>\n",
       "      <td>1349.652681</td>\n",
       "    </tr>\n",
       "    <tr>\n",
       "      <td>2016-06-26 10:49:02</td>\n",
       "      <td>46.888573</td>\n",
       "      <td>10.502010</td>\n",
       "      <td>1350.0</td>\n",
       "      <td>1349.4</td>\n",
       "      <td>1349.333333</td>\n",
       "      <td>1349.285714</td>\n",
       "      <td>1350.085714</td>\n",
       "      <td>1349.8</td>\n",
       "      <td>1350.085714</td>\n",
       "      <td>1349.692308</td>\n",
       "      <td>1349.727273</td>\n",
       "      <td>1349.879953</td>\n",
       "    </tr>\n",
       "    <tr>\n",
       "      <td>2016-06-26 10:49:03</td>\n",
       "      <td>46.888574</td>\n",
       "      <td>10.502012</td>\n",
       "      <td>1350.0</td>\n",
       "      <td>1349.6</td>\n",
       "      <td>1349.500000</td>\n",
       "      <td>1349.428571</td>\n",
       "      <td>1350.000000</td>\n",
       "      <td>1350.0</td>\n",
       "      <td>1350.000000</td>\n",
       "      <td>1349.857809</td>\n",
       "      <td>1349.863636</td>\n",
       "      <td>1350.037296</td>\n",
       "    </tr>\n",
       "    <tr>\n",
       "      <td>2016-06-26 10:49:04</td>\n",
       "      <td>46.888574</td>\n",
       "      <td>10.502013</td>\n",
       "      <td>1350.0</td>\n",
       "      <td>1349.8</td>\n",
       "      <td>1349.666667</td>\n",
       "      <td>1349.571429</td>\n",
       "      <td>1350.000000</td>\n",
       "      <td>1350.0</td>\n",
       "      <td>1350.000000</td>\n",
       "      <td>1350.034965</td>\n",
       "      <td>1350.000000</td>\n",
       "      <td>1350.083916</td>\n",
       "    </tr>\n",
       "    <tr>\n",
       "      <td>2016-06-26 10:49:05</td>\n",
       "      <td>46.888575</td>\n",
       "      <td>10.502012</td>\n",
       "      <td>1350.0</td>\n",
       "      <td>1350.0</td>\n",
       "      <td>1349.833333</td>\n",
       "      <td>1349.714286</td>\n",
       "      <td>1350.000000</td>\n",
       "      <td>1350.0</td>\n",
       "      <td>1350.000000</td>\n",
       "      <td>1350.223776</td>\n",
       "      <td>1350.136364</td>\n",
       "      <td>1349.979021</td>\n",
       "    </tr>\n",
       "  </tbody>\n",
       "</table>\n",
       "<p>22659 rows × 12 columns</p>\n",
       "</div>"
      ],
      "text/plain": [
       "                      latitude  longitude  Altitude  altitude_mf5  \\\n",
       "time                                                                \n",
       "2016-06-26 04:31:27  46.889062  10.502119    1343.0           NaN   \n",
       "2016-06-26 04:31:28  46.889062  10.502119    1343.0           NaN   \n",
       "2016-06-26 04:31:29  46.889062  10.502119    1343.0           NaN   \n",
       "2016-06-26 04:31:30  46.889065  10.502119    1344.0           NaN   \n",
       "2016-06-26 04:31:31  46.889068  10.502121    1345.0        1343.6   \n",
       "...                        ...        ...       ...           ...   \n",
       "2016-06-26 10:49:01  46.888570  10.502008    1350.0        1349.2   \n",
       "2016-06-26 10:49:02  46.888573  10.502010    1350.0        1349.4   \n",
       "2016-06-26 10:49:03  46.888574  10.502012    1350.0        1349.6   \n",
       "2016-06-26 10:49:04  46.888574  10.502013    1350.0        1349.8   \n",
       "2016-06-26 10:49:05  46.888575  10.502012    1350.0        1350.0   \n",
       "\n",
       "                     altitude_mf6  altitude_mf7  smoothed_2dg_altitude_5  \\\n",
       "time                                                                       \n",
       "2016-06-26 04:31:27           NaN           NaN              1343.028571   \n",
       "2016-06-26 04:31:28           NaN           NaN              1342.885714   \n",
       "2016-06-26 04:31:29           NaN           NaN              1343.171429   \n",
       "2016-06-26 04:31:30           NaN           NaN              1343.914286   \n",
       "2016-06-26 04:31:31           NaN           NaN              1345.085714   \n",
       "...                           ...           ...                      ...   \n",
       "2016-06-26 10:49:01   1349.166667   1349.142857              1349.742857   \n",
       "2016-06-26 10:49:02   1349.333333   1349.285714              1350.085714   \n",
       "2016-06-26 10:49:03   1349.500000   1349.428571              1350.000000   \n",
       "2016-06-26 10:49:04   1349.666667   1349.571429              1350.000000   \n",
       "2016-06-26 10:49:05   1349.833333   1349.714286              1350.000000   \n",
       "\n",
       "                     smoothed_1dg_altitude_5  smoothed_3dg_altitude_5  \\\n",
       "time                                                                    \n",
       "2016-06-26 04:31:27                   1342.6              1343.028571   \n",
       "2016-06-26 04:31:28                   1343.1              1342.885714   \n",
       "2016-06-26 04:31:29                   1343.6              1343.171429   \n",
       "2016-06-26 04:31:30                   1344.2              1343.914286   \n",
       "2016-06-26 04:31:31                   1344.8              1345.085714   \n",
       "...                                      ...                      ...   \n",
       "2016-06-26 10:49:01                   1349.6              1349.742857   \n",
       "2016-06-26 10:49:02                   1349.8              1350.085714   \n",
       "2016-06-26 10:49:03                   1350.0              1350.000000   \n",
       "2016-06-26 10:49:04                   1350.0              1350.000000   \n",
       "2016-06-26 10:49:05                   1350.0              1350.000000   \n",
       "\n",
       "                     smoothed_2dg_altitude_11  smoothed_1dg_altitude_11  \\\n",
       "time                                                                      \n",
       "2016-06-26 04:31:27               1342.335664               1342.772727   \n",
       "2016-06-26 04:31:28               1343.097902               1343.272727   \n",
       "2016-06-26 04:31:29               1343.801865               1343.772727   \n",
       "2016-06-26 04:31:30               1344.447552               1344.272727   \n",
       "2016-06-26 04:31:31               1345.034965               1344.772727   \n",
       "...                                       ...                       ...   \n",
       "2016-06-26 10:49:01               1349.538462               1349.590909   \n",
       "2016-06-26 10:49:02               1349.692308               1349.727273   \n",
       "2016-06-26 10:49:03               1349.857809               1349.863636   \n",
       "2016-06-26 10:49:04               1350.034965               1350.000000   \n",
       "2016-06-26 10:49:05               1350.223776               1350.136364   \n",
       "\n",
       "                     smoothed_3dg_altitude_11  \n",
       "time                                           \n",
       "2016-06-26 04:31:27               1342.860140  \n",
       "2016-06-26 04:31:28               1342.993007  \n",
       "2016-06-26 04:31:29               1343.417249  \n",
       "2016-06-26 04:31:30               1344.045455  \n",
       "2016-06-26 04:31:31               1344.790210  \n",
       "...                                       ...  \n",
       "2016-06-26 10:49:01               1349.652681  \n",
       "2016-06-26 10:49:02               1349.879953  \n",
       "2016-06-26 10:49:03               1350.037296  \n",
       "2016-06-26 10:49:04               1350.083916  \n",
       "2016-06-26 10:49:05               1349.979021  \n",
       "\n",
       "[22659 rows x 12 columns]"
      ]
     },
     "execution_count": 14,
     "metadata": {},
     "output_type": "execute_result"
    }
   ],
   "source": [
    "data.set_index(['time'],inplace=True)  \n",
    "data.resample('1S').asfreq()"
   ]
  },
  {
   "cell_type": "markdown",
   "metadata": {},
   "source": [
    "We need to mask these extra NaN values of Altitude, Latitude and Longitude values which came after resampling so that any computaion shall not take place on these extra invalid measurements of these parameters. Steps are as below\n",
    "\n"
   ]
  },
  {
   "cell_type": "code",
   "execution_count": 15,
   "metadata": {},
   "outputs": [],
   "source": [
    "measurements=np.ma.masked_invalid(data[['latitude','longitude','Altitude']].values)"
   ]
  },
  {
   "cell_type": "markdown",
   "metadata": {},
   "source": [
    "## Initialising the Kalman Filter"
   ]
  },
  {
   "cell_type": "markdown",
   "metadata": {},
   "source": [
    "For the sake of explaining terminologies of the Kalman filter, let’s take a simple model which has a state equation of  \n",
    "x(t)=F*x(t-1)+w(t)  \n",
    "and an observation equation of  \n",
    "y(t)=H*x(t)+e(t)  \n",
    "where we assume  \n",
    "w(t) ~N(0,E)  \n",
    "and  \n",
    "e(t)~N(0,R)  \n",
    ".  \n",
    "The basic one-dimensional Kalman filtering algorithm is as follows. We start with an initial state x00  \n",
    "and initial variance P00  \n",
    ". From here we compute next states as  \n",
    "x10=F*x00 + w0 where w0 belong to Gaussian Distribution N (0, E)\n",
    "\n",
    "P10=F^2*P00+E\n",
    "F is called as State Transition Matrix  \n",
    "x(t) is state at time t  \n",
    "x(t-1) is state at time t-1  \n",
    "y(t) is measured value at time t  \n",
    "H is Measurement matrix  \n",
    "w(t) is Process error which we want to minimise and is assumed as Gaussian distribution with mean 0 and having Process Variance as E  \n",
    "e(t) is Measurement error which can be assumed as Gaussian distribution with mean 0 and Measurement Variance of R  "
   ]
  },
  {
   "cell_type": "code",
   "execution_count": 16,
   "metadata": {},
   "outputs": [],
   "source": [
    "\n",
    "F = np.array([[1, 0, 0, 1, 0, 0], # Transition Matrix  \n",
    "[0, 1, 0, 0, 1, 0],  \n",
    "[0, 0, 1, 0, 0, 1],  \n",
    "[0, 0, 0, 1, 0, 0],  \n",
    "[0, 0, 0, 0, 1, 0],  \n",
    "[0, 0, 0, 0, 0, 1]])  \n",
    "H = np.array([[1, 0, 0, 0, 0, 0], # Measurement matrix  \n",
    "[0, 1, 0, 0, 0, 0],  \n",
    "[0, 0, 1, 0, 0, 0]])  \n",
    "R = np.diag([1e-4, 1e-4, 10])**2 # Mesaurement Co-Variance  "
   ]
  },
  {
   "cell_type": "code",
   "execution_count": 17,
   "metadata": {},
   "outputs": [],
   "source": [
    "initial_state_mean = np.hstack([measurements[0, :], 3*[0.]])\n",
    "# This is x00 (initial state).First 3 are initial states for position and last3 are initial states for speed  \n",
    "initial_state_covariance = np.diag([1e-4, 1e-4, 5, 1e-6, 1e-6, 1e-6])**2 \n",
    "# this is P00 (initial variance). first 3 are tolerance ranges of Position and last 3 are tolerances of Speed"
   ]
  },
  {
   "cell_type": "markdown",
   "metadata": {},
   "source": [
    "## Building Kalman Filter  "
   ]
  },
  {
   "cell_type": "code",
   "execution_count": 18,
   "metadata": {},
   "outputs": [],
   "source": [
    "from pykalman import KalmanFilter as kf  \n",
    "filt= kf(transition_matrices=F,observation_matrices=H,observation_covariance=R,initial_state_mean=initial_state_mean,initial_state_covariance=initial_state_covariance,em_vars=['transition_covariance'])"
   ]
  },
  {
   "cell_type": "markdown",
   "metadata": {},
   "source": [
    "## Fitting the Kalman Filter on Measurement data to get estimate of Process CoVariance (E) "
   ]
  },
  {
   "cell_type": "code",
   "execution_count": null,
   "metadata": {},
   "outputs": [],
   "source": [
    "filtered_measurements=filt.em(measurements,n_iter=1000) # takes a very long time"
   ]
  },
  {
   "cell_type": "code",
   "execution_count": null,
   "metadata": {},
   "outputs": [],
   "source": [
    "new_measurement_values , new_measurement_vari = filtered_measurements.smooth(measurements)"
   ]
  },
  {
   "cell_type": "code",
   "execution_count": null,
   "metadata": {},
   "outputs": [],
   "source": [
    "new_measurement_values[:,2]"
   ]
  },
  {
   "cell_type": "code",
   "execution_count": null,
   "metadata": {},
   "outputs": [],
   "source": [
    "data['kalman_filtered_Altitude'] = new_measurement_values[:,2]\n",
    "data[['Altitude','kalman_filtered_Altitude']].plot()"
   ]
  },
  {
   "cell_type": "code",
   "execution_count": null,
   "metadata": {},
   "outputs": [],
   "source": [
    "data[['Altitude','kalman_filtered_Altitude']].iloc[:4000].plot()"
   ]
  },
  {
   "cell_type": "markdown",
   "metadata": {},
   "source": [
    "Out of the three filter applied savitzky Golay Filter and kalman Filter are giving Good results But i will prefer to go with kalman filter Because in kalman filter we are making prediction based on system understanding which are more logical estiatimation compare to savitzky Golay Filter method which is making decsion based on trend of the signal and fiting polynomial curve on data paoints. Hence In savitzky Golay Filter there is a chance of overfitting and this filter will not work on unseen or complex noise senario."
   ]
  },
  {
   "cell_type": "code",
   "execution_count": null,
   "metadata": {},
   "outputs": [],
   "source": []
  }
 ],
 "metadata": {
  "kernelspec": {
   "display_name": "Python 3",
   "language": "python",
   "name": "python3"
  },
  "language_info": {
   "codemirror_mode": {
    "name": "ipython",
    "version": 3
   },
   "file_extension": ".py",
   "mimetype": "text/x-python",
   "name": "python",
   "nbconvert_exporter": "python",
   "pygments_lexer": "ipython3",
   "version": "3.8.3"
  }
 },
 "nbformat": 4,
 "nbformat_minor": 2
}
